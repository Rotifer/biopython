{
 "cells": [
  {
   "cell_type": "code",
   "execution_count": 1,
   "id": "ec25fdeb-6914-44c4-988f-0d99f1b0fad2",
   "metadata": {},
   "outputs": [
    {
     "name": "stdout",
     "output_type": "stream",
     "text": [
      "clustalo -i ../data/alignments/opuntia.fasta -o ../data/alignments/clustalo_opuntia_2.phylip --outfmt phylip -v\n"
     ]
    }
   ],
   "source": [
    "from Bio.Align.Applications import ClustalOmegaCommandline \n",
    "\n",
    "in_filepath = \"../data/alignments/opuntia.fasta\"\n",
    "\n",
    "# define output file (I have tried just adding .phylip or no .format)\n",
    "out_filepath = \"../data/alignments/clustalo_opuntia_2.phylip\"\n",
    "\n",
    "clustalomega_cline = ClustalOmegaCommandline(infile = in_filepath, \n",
    "                                             outfile = out_filepath, \n",
    "                                             outfmt = 'phylip', \n",
    "                                             verbose = True, \n",
    "                                             auto = False)\n",
    "print(clustalomega_cline)"
   ]
  },
  {
   "cell_type": "code",
   "execution_count": 2,
   "id": "1c5dcc4b-34a3-4309-92c7-a6dd0bdbb0b3",
   "metadata": {},
   "outputs": [],
   "source": [
    "stdout, stderr = clustalomega_cline()\n"
   ]
  },
  {
   "cell_type": "code",
   "execution_count": 3,
   "id": "f40e8a2c-51c0-4d58-aef9-e3c64641055b",
   "metadata": {},
   "outputs": [
    {
     "name": "stdout",
     "output_type": "stream",
     "text": [
      "Using 4 threads\n",
      "Read 7 sequences (type: DNA) from ../data/alignments/opuntia.fasta\n",
      "not more sequences (7) than cluster-size (100), turn off mBed\n",
      "Calculating pairwise ktuple-distances...\n",
      "Ktuple-distance calculation progress: 0 % (0 out of 28)\n",
      "Ktuple-distance calculation progress: 3 % (1 out of 28)\n",
      "Ktuple-distance calculation progress: 17 % (5 out of 28)\n",
      "Ktuple-distance calculation progress: 50 % (14 out of 28)\n",
      "Ktuple-distance calculation progress: 67 % (19 out of 28)\n",
      "Ktuple-distance calculation progress: 82 % (23 out of 28)\n",
      "Ktuple-distance calculation progress: 107 % (30 out of 28)\n",
      "Ktuple-distance calculation progress: 117 % (33 out of 28)\n",
      "Ktuple-distance calculation progress: 125 % (35 out of 28)\n",
      "Ktuple-distance calculation progress: 128 % (36 out of 28)\n",
      "Ktuple-distance calculation progress done. CPU time: 0.04u 0.00s 00:00:00.04 Elapsed: 00:00:00\n",
      "Guide-tree computation done.\n",
      "Progressive alignment progress: 16 % (1 out of 6)\n",
      "Progressive alignment progress: 33 % (2 out of 6)\n",
      "Progressive alignment progress: 50 % (3 out of 6)\n",
      "Progressive alignment progress: 66 % (4 out of 6)\n",
      "Progressive alignment progress: 83 % (5 out of 6)\n",
      "Progressive alignment progress: 100 % (6 out of 6)\n",
      "Progressive alignment progress done. CPU time: 0.54u 0.11s 00:00:00.65 Elapsed: 00:00:01\n",
      "Alignment written to ../data/alignments/clustalo_opuntia_2.phylip\n",
      "\n"
     ]
    }
   ],
   "source": [
    "print(stdout)"
   ]
  },
  {
   "cell_type": "code",
   "execution_count": 4,
   "id": "98a34c19-ef88-4ebe-b43d-19d3c9a5e74d",
   "metadata": {},
   "outputs": [
    {
     "name": "stdout",
     "output_type": "stream",
     "text": [
      "\n"
     ]
    }
   ],
   "source": [
    "print(stderr)"
   ]
  },
  {
   "cell_type": "code",
   "execution_count": null,
   "id": "e664e2d2-5782-47be-ae09-ffef6391bfdd",
   "metadata": {},
   "outputs": [],
   "source": []
  }
 ],
 "metadata": {
  "kernelspec": {
   "display_name": "Python 3 (ipykernel)",
   "language": "python",
   "name": "python3"
  },
  "language_info": {
   "codemirror_mode": {
    "name": "ipython",
    "version": 3
   },
   "file_extension": ".py",
   "mimetype": "text/x-python",
   "name": "python",
   "nbconvert_exporter": "python",
   "pygments_lexer": "ipython3",
   "version": "3.11.4"
  }
 },
 "nbformat": 4,
 "nbformat_minor": 5
}
